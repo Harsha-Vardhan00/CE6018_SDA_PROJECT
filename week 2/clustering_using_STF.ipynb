{
 "cells": [
  {
   "cell_type": "code",
   "execution_count": 7,
   "metadata": {},
   "outputs": [
    {
     "name": "stdout",
     "output_type": "stream",
     "text": [
      "                       Time     Lat      Lon  Depth(km)       M0(N.m)     Mw  \\\n",
      "0     1992-01-20 13:37:03.0  27.980  139.400      522.0  8.882000e+18  6.566   \n",
      "1     1992-02-13 01:29:13.0 -15.890  166.320       20.0  1.493000e+19  6.716   \n",
      "2     1992-03-05 14:39:10.0  52.900  159.620       53.0  3.607000e+18  6.305   \n",
      "3     1992-03-07 01:53:37.0  10.210  -84.320       79.0  6.732000e+18  6.485   \n",
      "4     1992-03-13 16:01:04.0  52.450 -178.950      214.0  5.273000e+18  6.415   \n",
      "...                     ...     ...      ...        ...           ...    ...   \n",
      "4250  2023-12-21 14:55:56.0  51.210 -175.331       20.0  2.542000e+18  6.203   \n",
      "4251  2023-12-22 17:36:32.0 -52.088   27.952       12.0  3.673000e+18  6.310   \n",
      "4252  2023-12-23 17:48:05.0  51.953  158.955       43.0  8.829000e+17  5.897   \n",
      "4253  2023-12-28 09:15:16.0  44.596  149.039       36.0  6.458000e+18  6.473   \n",
      "4254  2023-12-30 17:16:23.0  -2.993  139.372       36.0  4.225000e+18  6.351   \n",
      "\n",
      "      strike1(°)  dip1(°)  rake1(°)  strike2(°)  dip2(°)  rake2(°)  \n",
      "0           47.0     39.0    -155.0       298.0     75.0     -53.0  \n",
      "1          313.0     40.0      77.0       149.0     51.0     100.0  \n",
      "2          220.0     32.0      91.0        39.0     58.0      90.0  \n",
      "3          166.0     30.0      16.0        61.0     82.0     119.0  \n",
      "4          201.0     19.0     -21.0       311.0     83.0    -108.0  \n",
      "...          ...      ...       ...         ...      ...       ...  \n",
      "4250       252.0     26.0     101.0        60.0     64.0      85.0  \n",
      "4251       203.0     88.0     175.0       293.0     85.0       2.0  \n",
      "4252       205.0     42.0      75.0        45.0     50.0     103.0  \n",
      "4253       242.0     28.0     126.0        23.0     68.0      73.0  \n",
      "4254       115.0     33.0      87.0       298.0     57.0      92.0  \n",
      "\n",
      "[4255 rows x 12 columns]\n"
     ]
    }
   ],
   "source": [
    "import os\n",
    "import pandas as pd\n",
    "\n",
    "# Define the main directory\n",
    "main_dir = r\"C:\\Users\\ASUS\\OneDrive\\Desktop\\SDA\\week 2\\sourcefunction_archive_all\\ALL_MOY_and_OPTI_2025_MAJ_till_31122023\"\n",
    "\n",
    "# Define column names for the DataFrame\n",
    "\n",
    "columns = [\n",
    "    \"Time\", \"Lat\", \"Lon\",\n",
    "    \"Depth(km)\", \"M0(N.m)\", \"Mw\", \"strike1(°)\", \"dip1(°)\", \"rake1(°)\",\n",
    "    \"strike2(°)\", \"dip2(°)\", \"rake2(°)\"\n",
    "]\n",
    "df = pd.DataFrame(columns=columns)\n",
    "\n",
    "# Iterate through each earthquake folder\n",
    "for folder in os.listdir(main_dir):\n",
    "    folder_path = os.path.join(main_dir, folder)\n",
    "    \n",
    "    # Ensure it's a directory\n",
    "    if os.path.isdir(folder_path):\n",
    "        for file in os.listdir(folder_path):\n",
    "            if file.startswith(\"fctmoysource_\"):\n",
    "                file_path = os.path.join(folder_path, file)\n",
    "                \n",
    "                # Read the file\n",
    "                with open(file_path, \"r\") as f:\n",
    "                    lines = f.readlines()\n",
    "                    \n",
    "                    # Extract data from the first two lines\n",
    "                    header_1 = lines[0].strip().split()\n",
    "                    header_2 = lines[1].strip().split()\n",
    "                    \n",
    "                    # Format time\n",
    "                    date_part = \"-\".join(header_1[:3])  # YYYY-MM-DD\n",
    "                    time_part = \":\".join(header_1[3:6])  # HH:MM:SS\n",
    "                    formatted_time = date_part + \" \" + time_part  # YYYY-MM-DD HH:MM:SS\n",
    "                    \n",
    "                    # Extract values\n",
    "                    row_data = [\n",
    "                        formatted_time, float(header_1[6]), float(header_1[7]),  # Time, Lat, Lon\n",
    "                        float(header_2[0]), float(header_2[1]), float(header_2[2]),  # Depth, M0, Mw\n",
    "                        float(header_2[3]), float(header_2[4]), float(header_2[5]),  # Strike1, Dip1, Rake1\n",
    "                        float(header_2[6]), float(header_2[7]), float(header_2[8])   # Strike2, Dip2, Rake2\n",
    "                    ]\n",
    "                    \n",
    "                    # Append to DataFrame\n",
    "                    df.loc[len(df)] = row_data"
   ]
  },
  {
   "cell_type": "code",
   "execution_count": 8,
   "metadata": {},
   "outputs": [],
   "source": [
    "df.to_csv(\"Clustering_data_Cleaned.csv\",index = False)"
   ]
  },
  {
   "cell_type": "code",
   "execution_count": null,
   "metadata": {},
   "outputs": [],
   "source": []
  }
 ],
 "metadata": {
  "kernelspec": {
   "display_name": "Python 3 (ipykernel)",
   "language": "python",
   "name": "python3"
  },
  "language_info": {
   "codemirror_mode": {
    "name": "ipython",
    "version": 3
   },
   "file_extension": ".py",
   "mimetype": "text/x-python",
   "name": "python",
   "nbconvert_exporter": "python",
   "pygments_lexer": "ipython3",
   "version": "3.13.2"
  }
 },
 "nbformat": 4,
 "nbformat_minor": 4
}
