{
 "cells": [
  {
   "cell_type": "code",
   "execution_count": null,
   "metadata": {},
   "outputs": [],
   "source": [
    "import os\n",
    "import pandas as pd\n",
    "\n",
    "# Define the main directory\n",
    "main_dir = r\"C:\\Users\\ASUS\\OneDrive\\Desktop\\SDA\\week 2\\sourcefunction_archive_all\\ALL_MOY_and_OPTI_2025_MAJ_till_31122023\"\n",
    "\n",
    "# Define column names for the DataFrame\n",
    "columns = [\n",
    "    \"Time\", \"Lat\", \"Lon\",\n",
    "    \"Depth(km)\", \"M0(N.m)\", \"Mw\", \"strike1(°)\", \"dip1(°)\", \"rake1(°)\",\n",
    "    \"strike2(°)\", \"dip2(°)\", \"rake2(°)\"\n",
    "]\n",
    "df = pd.DataFrame(columns=columns)\n",
    "\n",
    "# Iterate through each earthquake folder\n",
    "for folder in os.listdir(main_dir):\n",
    "    folder_path = os.path.join(main_dir, folder)\n",
    "    \n",
    "    # Ensure it's a directory\n",
    "    if os.path.isdir(folder_path):\n",
    "        for file in os.listdir(folder_path):\n",
    "            if file.startswith(\"fctmoysource_\") or file.startswith(\"fctoptsource_\"):\n",
    "                file_path = os.path.join(folder_path, file)\n",
    "                \n",
    "                # Read the file\n",
    "                with open(file_path, \"r\") as f:\n",
    "                    lines = f.readlines()\n",
    "                    \n",
    "                    # Extract data from the first two lines\n",
    "                    header_1 = lines[0].strip().split()\n",
    "                    header_2 = lines[1].strip().split()\n",
    "                    \n",
    "                    # Format time\n",
    "                    date_part = \"-\".join(header_1[:3])  # YYYY-MM-DD\n",
    "                    time_part = \":\".join(header_1[3:6])  # HH:MM:SS\n",
    "                    formatted_time = date_part + \" \" + time_part  # YYYY-MM-DD HH:MM:SS\n",
    "                    \n",
    "                    # Extract values\n",
    "                    row_data = [\n",
    "                        formatted_time, float(header_1[6]), float(header_1[7]),  # Time, Lat, Lon\n",
    "                        float(header_2[0]), float(header_2[1]), float(header_2[2]),  # Depth, M0, Mw\n",
    "                        float(header_2[3]), float(header_2[4]), float(header_2[5]),  # Strike1, Dip1, Rake1\n",
    "                        float(header_2[6]), float(header_2[7]), float(header_2[8])   # Strike2, Dip2, Rake2\n",
    "                    ]\n",
    "                    \n",
    "                    # Append to DataFrame\n",
    "                    df.loc[len(df)] = row_data\n",
    "\n",
    "# Display the DataFrame\n",
    "print(df)\n"
   ]
  },
  {
   "cell_type": "code",
   "execution_count": null,
   "metadata": {},
   "outputs": [],
   "source": [
    "df.to_csv(\"data.csv\",index = False)"
   ]
  }
 ],
 "metadata": {
  "language_info": {
   "name": "python"
  }
 },
 "nbformat": 4,
 "nbformat_minor": 2
}
